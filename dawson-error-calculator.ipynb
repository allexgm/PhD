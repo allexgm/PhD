{
 "cells": [
  {
   "cell_type": "code",
   "execution_count": 25,
   "id": "44fd5be4",
   "metadata": {},
   "outputs": [],
   "source": [
    "from scipy import special\n",
    "import numpy as np\n",
    "#\n",
    "#--------------------------------------------------------------------------------------------------------------+\n",
    "# Code to calculate the relative error of two ways to calculate the Dawson function (in file \"dawson-fun.dat\") |\n",
    "# taking as reference the results obtained with the function \"special.dawsn\" from \"scipy\" package. The results |\n",
    "# are saved in the file \"dawson-errors.dat\"\n",
    "#--------------------------------------------------------------------------------------------------------------+\n",
    "\n",
    "filename = 'dawson-fun.dat'\n",
    "x = []\n",
    "daw_euler = []\n",
    "daw_cheb = []\n",
    "daw_scipy = []\n",
    "error_euler = []\n",
    "error_cheb = []\n",
    "\n",
    "#Open the file...\n",
    "with open(filename, 'r') as file:\n",
    "    file.readline()\n",
    "    #... and for each line...\n",
    "    for line in file:\n",
    "        #... save x, daw_euler(x), daw_cheb(x) and...\n",
    "        x.append(float(line.split()[0]))\n",
    "        daw_euler.append(float(line.split()[1]))\n",
    "        daw_cheb.append(float(line.split()[2]))\n",
    "        #... calculate daw_scipy(x), RE(euler) and RE(cheb)\n",
    "        daw_scipy.append(special.dawsn(x[-1]))\n",
    "        error_euler.append(np.abs((daw_scipy[-1] - daw_euler[-1]) / daw_scipy[-1]))\n",
    "        error_cheb.append(np.abs((daw_scipy[-1] - daw_cheb[-1]) / daw_scipy[-1]))\n",
    "        \n",
    "#Save the REs in a file with the desired format\n",
    "data = np.column_stack((x, error_euler, error_cheb))\n",
    "np.savetxt('dawson-errors.dat', data, delimiter=' ')\n",
    "\n"
   ]
  },
  {
   "cell_type": "code",
   "execution_count": null,
   "id": "cd3b7dfc",
   "metadata": {},
   "outputs": [],
   "source": []
  },
  {
   "cell_type": "code",
   "execution_count": null,
   "id": "d1db94ac",
   "metadata": {},
   "outputs": [],
   "source": []
  }
 ],
 "metadata": {
  "kernelspec": {
   "display_name": "Python 3 (ipykernel)",
   "language": "python",
   "name": "python3"
  },
  "language_info": {
   "codemirror_mode": {
    "name": "ipython",
    "version": 3
   },
   "file_extension": ".py",
   "mimetype": "text/x-python",
   "name": "python",
   "nbconvert_exporter": "python",
   "pygments_lexer": "ipython3",
   "version": "3.12.3"
  }
 },
 "nbformat": 4,
 "nbformat_minor": 5
}
